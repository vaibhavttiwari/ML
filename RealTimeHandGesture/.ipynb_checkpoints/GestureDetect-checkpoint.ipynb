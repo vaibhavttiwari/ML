{
 "cells": [
  {
   "cell_type": "code",
   "execution_count": 1,
   "metadata": {},
   "outputs": [
    {
     "name": "stderr",
     "output_type": "stream",
     "text": [
      "Using TensorFlow backend.\n"
     ]
    }
   ],
   "source": [
    "import cv2\n",
    "import matplotlib.pyplot as plt\n",
    "import numpy as np\n",
    "import keras\n",
    "from keras import models\n",
    "from keras import layers\n",
    "from pynput.keyboard import Key,Controller"
   ]
  },
  {
   "cell_type": "code",
   "execution_count": 2,
   "metadata": {},
   "outputs": [],
   "source": [
    "skinkernel = cv2.getStructuringElement(cv2.MORPH_ELLIPSE,(5,5))\n",
    "low_range = np.array([0, 50, 80])\n",
    "upper_range = np.array([30, 200, 255])\n",
    "\n",
    "gesture = ['Nothing', 'Ok', 'Peace', 'Punch', 'Stop']\n",
    "\n",
    "json_file = open(\"model.json\", \"r\")\n",
    "loaded_json_file = json_file.read()\n",
    "json_file.close()\n",
    "\n",
    "model = models.model_from_json(loaded_json_file)\n",
    "\n",
    "model.load_weights(\"model.h5\")\n",
    "\n",
    "keyboard = Controller()"
   ]
  },
  {
   "cell_type": "code",
   "execution_count": 3,
   "metadata": {},
   "outputs": [],
   "source": [
    "model.compile(optimizer='rmsprop', loss='categorical_crossentropy', metrics=['accuracy'])"
   ]
  },
  {
   "cell_type": "code",
   "execution_count": 23,
   "metadata": {},
   "outputs": [],
   "source": [
    "cam = cv2.VideoCapture(0)\n",
    "cv2.namedWindow(\"test\")\n",
    "\n",
    "im_count=0\n",
    "\n",
    "while True:\n",
    "    ret, frame = cam.read()\n",
    "    frame = cv2.flip(frame,1,0)\n",
    "    cv2.rectangle(frame, (400, 100), (600, 300),(0,255,0),thickness=2)\n",
    "    \n",
    "    cv2.imshow(\"test\", frame)\n",
    "    \n",
    "    if not ret:\n",
    "        break\n",
    "    \n",
    "    roi = frame[100:300, 400:600]\n",
    "    hsv = cv2.cvtColor(roi, cv2.COLOR_BGR2HSV)\n",
    "        \n",
    "    mask = cv2.inRange(hsv, low_range, upper_range)\n",
    "    mask = cv2.erode(mask, skinkernel, iterations=1)\n",
    "    mask = cv2.dilate(mask, skinkernel, iterations=1)\n",
    "        \n",
    "    mask = cv2.GaussianBlur(mask, (15,15), 1)\n",
    "    \n",
    "    res = cv2.bitwise_and(roi, roi, mask = mask)\n",
    "    gray = cv2.cvtColor(res, cv2.COLOR_BGR2GRAY)\n",
    "        \n",
    "    gray = np.array(gray, dtype='float32')\n",
    "    gray /= 255\n",
    "        \n",
    "    gray = gray.reshape((1, 200, 200, 1))\n",
    "        \n",
    "    a = model.predict_classes(gray)\n",
    "    \n",
    "    k = cv2.waitKey(1)\n",
    "    \n",
    "    if a[0]==4:\n",
    "        keyboard.press(Key.space)\n",
    "    \n",
    "    else:\n",
    "        keyboard.release(Key.space)\n",
    "        \n",
    "    if k==27:\n",
    "        break\n",
    "\n",
    "cam.release()                                                               \n",
    "cv2.destroyAllWindows()"
   ]
  },
  {
   "cell_type": "code",
   "execution_count": null,
   "metadata": {},
   "outputs": [],
   "source": []
  },
  {
   "cell_type": "code",
   "execution_count": null,
   "metadata": {},
   "outputs": [],
   "source": []
  }
 ],
 "metadata": {
  "kernelspec": {
   "display_name": "Python 3",
   "language": "python",
   "name": "python3"
  },
  "language_info": {
   "codemirror_mode": {
    "name": "ipython",
    "version": 3
   },
   "file_extension": ".py",
   "mimetype": "text/x-python",
   "name": "python",
   "nbconvert_exporter": "python",
   "pygments_lexer": "ipython3",
   "version": "3.6.7"
  }
 },
 "nbformat": 4,
 "nbformat_minor": 2
}
