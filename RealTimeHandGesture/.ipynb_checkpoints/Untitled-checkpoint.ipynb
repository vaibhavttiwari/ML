{
 "cells": [
  {
   "cell_type": "code",
   "execution_count": 7,
   "metadata": {},
   "outputs": [],
   "source": [
    "import cv2\n",
    "import matplotlib.pyplot as plt"
   ]
  },
  {
   "cell_type": "code",
   "execution_count": 9,
   "metadata": {},
   "outputs": [],
   "source": [
    "cam = cv2.VideoCapture(0)\n",
    "cv2.namedWindow(\"test\")\n",
    "\n",
    "im_count=0\n",
    "\n",
    "while im_count<5:\n",
    "    ret, frame = cam.read()\n",
    "    frame = cv2.flip(frame,1,0)\n",
    "    cv2.rectangle(frame, (400, 100), (600, 300),(0,255,0),thickness=2)\n",
    "    \n",
    "    cv2.imshow(\"test\", frame)\n",
    "    \n",
    "    if not ret:\n",
    "        break\n",
    "    \n",
    "    k = cv2.waitKey(1)\n",
    "    \n",
    "    if k%256 == 32:\n",
    "        gray = cv2.cvtColor(frame, cv2.COLOR_BGR2GRAY)\n",
    "        gray = gray[100:300, 400:600]\n",
    "        cv2.imshow(\"frame\", gray)\n",
    "        im_count += 1\n",
    "\n",
    "cam.release()\n",
    "cv2.destroyAllWindows()"
   ]
  },
  {
   "cell_type": "code",
   "execution_count": null,
   "metadata": {},
   "outputs": [],
   "source": []
  },
  {
   "cell_type": "code",
   "execution_count": null,
   "metadata": {},
   "outputs": [],
   "source": []
  }
 ],
 "metadata": {
  "kernelspec": {
   "display_name": "Python 3",
   "language": "python",
   "name": "python3"
  },
  "language_info": {
   "codemirror_mode": {
    "name": "ipython",
    "version": 3
   },
   "file_extension": ".py",
   "mimetype": "text/x-python",
   "name": "python",
   "nbconvert_exporter": "python",
   "pygments_lexer": "ipython3",
   "version": "3.6.7"
  }
 },
 "nbformat": 4,
 "nbformat_minor": 2
}
